{
 "cells": [
  {
   "cell_type": "markdown",
   "metadata": {},
   "source": [
    "BIBLIOTHEQUES : "
   ]
  },
  {
   "cell_type": "markdown",
   "metadata": {},
   "source": [
    "DONT FORGET TO INSTALL THE LIBRARY \"emoji\" USING pip install emoji"
   ]
  },
  {
   "cell_type": "code",
   "execution_count": 9,
   "metadata": {},
   "outputs": [],
   "source": [
    "import re\n",
    "from emoji import is_emoji"
   ]
  },
  {
   "cell_type": "markdown",
   "metadata": {},
   "source": [
    "VOS SPECIFICATIONS :"
   ]
  },
  {
   "cell_type": "markdown",
   "metadata": {},
   "source": [
    "N'OUBLIER PAS À EXPORTER LA DISCUSSION WHTSP, ET LA METTRE DANS LE DOSSIER DE CETTE FICHIER"
   ]
  },
  {
   "cell_type": "code",
   "execution_count": 10,
   "metadata": {},
   "outputs": [],
   "source": [
    "\n",
    "\n",
    "path        = \"test.txt\"\n",
    "ME          = \"XXX\"\n",
    "YOU         = \"YYY\"\n",
    "n           = 2"
   ]
  },
  {
   "cell_type": "markdown",
   "metadata": {},
   "source": [
    "SOME USEFUL FUNCTIONS :"
   ]
  },
  {
   "cell_type": "code",
   "execution_count": 11,
   "metadata": {},
   "outputs": [],
   "source": [
    "def delete_doubles(myList) :\n",
    "      resultantList = []\n",
    "      for element in myList:\n",
    "            if element not in resultantList:\n",
    "                  resultantList.append(element)\n",
    "      return resultantList\n",
    "def percent(number) :\n",
    "      return str(int(100*number))+\"%\"\n",
    "def is_emojed(text) : \n",
    "      result =False\n",
    "      for i in text :\n",
    "            if is_emoji(i) :\n",
    "                  result =True\n",
    "                  break\n",
    "      return result\n",
    "\n",
    "def top(M,n) : \n",
    "      for iter_num in range(len(M)-1,0,-1):\n",
    "            for idx in range(iter_num):\n",
    "                  if M[idx][1]<M[idx+1][1]:\n",
    "                        temp = M[idx]\n",
    "                        M[idx] = M[idx+1]\n",
    "                        M[idx+1] = temp\n",
    "      return M[0:n]\n",
    "\n",
    "def th(number) :\n",
    "      if number%10==1 :\n",
    "            return str(number)+\"st\"\n",
    "      elif number%10==2 :\n",
    "            return str(number)+\"nd\"      \n",
    "      elif number%10==3 :\n",
    "            return str(number)+\"rd\"\n",
    "      else :\n",
    "            return str(number)+\"th\""
   ]
  },
  {
   "cell_type": "markdown",
   "metadata": {},
   "source": [
    "STATISTIQUE DE L'UTILISATION DES EMOJIS :"
   ]
  },
  {
   "cell_type": "markdown",
   "metadata": {},
   "source": [
    "RUN THIS BLOC TO HAVE RESULT"
   ]
  },
  {
   "cell_type": "code",
   "execution_count": 12,
   "metadata": {},
   "outputs": [
    {
     "name": "stdout",
     "output_type": "stream",
     "text": [
      "YYY has send 4 message, 75% of his messages include emojis \n",
      "while\n",
      "XXX has send 2 message, 100% of his messages include emojis\n"
     ]
    }
   ],
   "source": [
    "def statistique_emoji(path) : \n",
    "      with open(path , encoding=\"utf8\") as f:\n",
    "            lines   = f.readlines()\n",
    "      \n",
    "      YOU_msg = [line for line in lines if YOU in line]\n",
    "      ME_msg  = [line for line in lines if ME  in line]\n",
    "\n",
    "      YOU_msg_emojed = [line for line in YOU_msg  if  is_emojed(line)]\n",
    "      ME_msg_emojed  = [line for line in ME_msg  if  is_emojed(line) ]\n",
    "\n",
    "      text = \"{} has send {} message, {} of his messages include emojis \\nwhile\\n{} has send {} message, {} of his messages include emojis\".format(YOU,len(YOU_msg),percent(len(YOU_msg_emojed)/len(YOU_msg)),ME,len(ME_msg),percent(len(ME_msg_emojed)/len(ME_msg)))\n",
    "\n",
    "      return text\n",
    "\n",
    "print(statistique_emoji(path))"
   ]
  },
  {
   "cell_type": "markdown",
   "metadata": {},
   "source": [
    "TOP EMOJI QUE VOUS UTILISER :"
   ]
  },
  {
   "cell_type": "markdown",
   "metadata": {},
   "source": [
    "RUN THIS CODE TO HAVE RESULT "
   ]
  },
  {
   "cell_type": "code",
   "execution_count": 14,
   "metadata": {},
   "outputs": [
    {
     "name": "stdout",
     "output_type": "stream",
     "text": [
      "YYY's 1st TOP emoji is : 🙂 with 4 occurences\n",
      "YYY's 2nd TOP emoji is : 🙄 with 1 occurences\n",
      "\n",
      "XXX's 1st TOP emoji is : 🙂 with 1 occurences\n",
      "XXX's 2nd TOP emoji is : 😤 with 1 occurences\n",
      "\n"
     ]
    }
   ],
   "source": [
    "def top_emoji(path,n) : \n",
    "      with open(path , encoding=\"utf8\") as f:\n",
    "            lines   = f.readlines()\n",
    "      \n",
    "      YOU_msg = \"\".join([line for line in lines if YOU in line])\n",
    "      ME_msg  = \"\".join([line for line in lines if ME  in line])\n",
    "\n",
    "      YOU_emoji = [car for car in YOU_msg if is_emoji(car)]\n",
    "      cleaned_YOU_emoji = delete_doubles(YOU_emoji)\n",
    "      hist_YOU=[]\n",
    "      for emoji in cleaned_YOU_emoji : \n",
    "            hist_YOU.append((emoji , YOU_emoji.count(emoji)))\n",
    "      YOUR_TOP = top(hist_YOU,n)\n",
    "      top_you=\"\"\n",
    "      for i in range(len(YOUR_TOP)) :\n",
    "            top_you = top_you + \"{}'s {} TOP emoji is : {} with {} occurences\\n\".format(YOU,th(i+1),YOUR_TOP[i][0],YOUR_TOP[i][1])\n",
    "\n",
    "\n",
    "      ME_emoji  = [car for car in ME_msg  if is_emoji(car)]\n",
    "      cleaned_ME_emoji = delete_doubles(ME_emoji)\n",
    "      hist_ME=[]\n",
    "      for emoji in cleaned_ME_emoji : \n",
    "            hist_ME.append((emoji , ME_emoji.count(emoji)))\n",
    "      MINE_TOP = top(hist_ME,n)\n",
    "      top_me=\"\"\n",
    "      for i in range(len(MINE_TOP)) :\n",
    "            top_me = top_me + \"{}'s {} TOP emoji is : {} with {} occurences\\n\".format(ME,th(i+1),MINE_TOP[i][0],MINE_TOP[i][1])\n",
    "\n",
    "      return top_you +\"\\n\"+top_me \n",
    "\n",
    "print(top_emoji(path,10))"
   ]
  }
 ],
 "metadata": {
  "kernelspec": {
   "display_name": "Python 3.8.8 64-bit",
   "language": "python",
   "name": "python3"
  },
  "language_info": {
   "codemirror_mode": {
    "name": "ipython",
    "version": 3
   },
   "file_extension": ".py",
   "mimetype": "text/x-python",
   "name": "python",
   "nbconvert_exporter": "python",
   "pygments_lexer": "ipython3",
   "version": "3.8.8"
  },
  "orig_nbformat": 4,
  "vscode": {
   "interpreter": {
    "hash": "494deeb4eea7fb63b62f74ba02ace728543e0003fbb675bfec79f4f4980c3f04"
   }
  }
 },
 "nbformat": 4,
 "nbformat_minor": 2
}
