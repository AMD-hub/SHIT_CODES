{
 "cells": [
  {
   "cell_type": "markdown",
   "metadata": {},
   "source": [
    "BIBLIOTHEQUES : "
   ]
  },
  {
   "cell_type": "markdown",
   "metadata": {},
   "source": [
    "DONT FORGET TO INSTALL THE LIBRARY \"emoji\" USING pip install emoji"
   ]
  },
  {
   "cell_type": "code",
   "execution_count": 10,
   "metadata": {},
   "outputs": [],
   "source": [
    "import re\n",
    "from emoji import is_emoji"
   ]
  },
  {
   "cell_type": "markdown",
   "metadata": {},
   "source": [
    "VOS SPECIFICATIONS :"
   ]
  },
  {
   "cell_type": "markdown",
   "metadata": {},
   "source": [
    "N'OUBLIER PAS À EXPORTER LA DISCUSSION WHTSP, ET LA METTRE DANS LE DOSSIER DE CETTE FICHIER"
   ]
  },
  {
   "cell_type": "code",
   "execution_count": 7,
   "metadata": {},
   "outputs": [],
   "source": [
    "\n",
    "\n",
    "path        = \"maro_disc.txt\"\n",
    "ME          = \"AMD\"\n",
    "YOU         = \"YYY\"\n",
    "n           = 2"
   ]
  },
  {
   "cell_type": "markdown",
   "metadata": {},
   "source": [
    "SOME USEFUL FUNCTIONS :"
   ]
  },
  {
   "cell_type": "code",
   "execution_count": 8,
   "metadata": {},
   "outputs": [],
   "source": [
    "def delete_doubles(myList) :\n",
    "      resultantList = []\n",
    "      for element in myList:\n",
    "            if element not in resultantList:\n",
    "                  resultantList.append(element)\n",
    "      return resultantList\n",
    "def percent(number) :\n",
    "      return str(int(100*number))+\"%\"\n",
    "def is_emojed(text) : \n",
    "      result =False\n",
    "      for i in text :\n",
    "            if is_emoji(i) :\n",
    "                  result =True\n",
    "                  break\n",
    "      return result\n",
    "\n",
    "def top(M,n) : \n",
    "      for iter_num in range(len(M)-1,0,-1):\n",
    "            for idx in range(iter_num):\n",
    "                  if M[idx][1]<M[idx+1][1]:\n",
    "                        temp = M[idx]\n",
    "                        M[idx] = M[idx+1]\n",
    "                        M[idx+1] = temp\n",
    "      return M[0:n]\n"
   ]
  },
  {
   "cell_type": "markdown",
   "metadata": {},
   "source": [
    "STATISTIQUE DE L'UTILISATION DES EMOJIS :"
   ]
  },
  {
   "cell_type": "markdown",
   "metadata": {},
   "source": [
    "RUN THIS BLOC TO HAVE RESULT"
   ]
  },
  {
   "cell_type": "code",
   "execution_count": 9,
   "metadata": {},
   "outputs": [
    {
     "ename": "ZeroDivisionError",
     "evalue": "division by zero",
     "output_type": "error",
     "traceback": [
      "\u001b[1;31m---------------------------------------------------------------------------\u001b[0m",
      "\u001b[1;31mZeroDivisionError\u001b[0m                         Traceback (most recent call last)",
      "\u001b[1;32m~\\AppData\\Local\\Temp/ipykernel_12664/1658051068.py\u001b[0m in \u001b[0;36m<module>\u001b[1;34m\u001b[0m\n\u001b[0;32m     13\u001b[0m       \u001b[1;32mreturn\u001b[0m \u001b[0mtext\u001b[0m\u001b[1;33m\u001b[0m\u001b[1;33m\u001b[0m\u001b[0m\n\u001b[0;32m     14\u001b[0m \u001b[1;33m\u001b[0m\u001b[0m\n\u001b[1;32m---> 15\u001b[1;33m \u001b[0mprint\u001b[0m\u001b[1;33m(\u001b[0m\u001b[0mstatistique_emoji\u001b[0m\u001b[1;33m(\u001b[0m\u001b[0mpath\u001b[0m\u001b[1;33m)\u001b[0m\u001b[1;33m)\u001b[0m\u001b[1;33m\u001b[0m\u001b[1;33m\u001b[0m\u001b[0m\n\u001b[0m",
      "\u001b[1;32m~\\AppData\\Local\\Temp/ipykernel_12664/1658051068.py\u001b[0m in \u001b[0;36mstatistique_emoji\u001b[1;34m(path)\u001b[0m\n\u001b[0;32m      9\u001b[0m       \u001b[0mME_msg_emojed\u001b[0m  \u001b[1;33m=\u001b[0m \u001b[1;33m[\u001b[0m\u001b[0mline\u001b[0m \u001b[1;32mfor\u001b[0m \u001b[0mline\u001b[0m \u001b[1;32min\u001b[0m \u001b[0mME_msg\u001b[0m  \u001b[1;32mif\u001b[0m  \u001b[0mis_emojed\u001b[0m\u001b[1;33m(\u001b[0m\u001b[0mline\u001b[0m\u001b[1;33m)\u001b[0m \u001b[1;33m]\u001b[0m\u001b[1;33m\u001b[0m\u001b[1;33m\u001b[0m\u001b[0m\n\u001b[0;32m     10\u001b[0m \u001b[1;33m\u001b[0m\u001b[0m\n\u001b[1;32m---> 11\u001b[1;33m       \u001b[0mtext\u001b[0m \u001b[1;33m=\u001b[0m \u001b[1;34m\"{} has send {} message, {} of his messages include emojis \\nwhile\\n{} has send {} message, {} of his messages include emojis\"\u001b[0m\u001b[1;33m.\u001b[0m\u001b[0mformat\u001b[0m\u001b[1;33m(\u001b[0m\u001b[0mYOU\u001b[0m\u001b[1;33m,\u001b[0m\u001b[0mlen\u001b[0m\u001b[1;33m(\u001b[0m\u001b[0mYOU_msg\u001b[0m\u001b[1;33m)\u001b[0m\u001b[1;33m,\u001b[0m\u001b[0mpercent\u001b[0m\u001b[1;33m(\u001b[0m\u001b[0mlen\u001b[0m\u001b[1;33m(\u001b[0m\u001b[0mYOU_msg_emojed\u001b[0m\u001b[1;33m)\u001b[0m\u001b[1;33m/\u001b[0m\u001b[0mlen\u001b[0m\u001b[1;33m(\u001b[0m\u001b[0mYOU_msg\u001b[0m\u001b[1;33m)\u001b[0m\u001b[1;33m)\u001b[0m\u001b[1;33m,\u001b[0m\u001b[0mME\u001b[0m\u001b[1;33m,\u001b[0m\u001b[0mlen\u001b[0m\u001b[1;33m(\u001b[0m\u001b[0mME_msg\u001b[0m\u001b[1;33m)\u001b[0m\u001b[1;33m,\u001b[0m\u001b[0mpercent\u001b[0m\u001b[1;33m(\u001b[0m\u001b[0mlen\u001b[0m\u001b[1;33m(\u001b[0m\u001b[0mME_msg_emojed\u001b[0m\u001b[1;33m)\u001b[0m\u001b[1;33m/\u001b[0m\u001b[0mlen\u001b[0m\u001b[1;33m(\u001b[0m\u001b[0mME_msg\u001b[0m\u001b[1;33m)\u001b[0m\u001b[1;33m)\u001b[0m\u001b[1;33m)\u001b[0m\u001b[1;33m\u001b[0m\u001b[1;33m\u001b[0m\u001b[0m\n\u001b[0m\u001b[0;32m     12\u001b[0m \u001b[1;33m\u001b[0m\u001b[0m\n\u001b[0;32m     13\u001b[0m       \u001b[1;32mreturn\u001b[0m \u001b[0mtext\u001b[0m\u001b[1;33m\u001b[0m\u001b[1;33m\u001b[0m\u001b[0m\n",
      "\u001b[1;31mZeroDivisionError\u001b[0m: division by zero"
     ]
    }
   ],
   "source": [
    "def statistique_emoji(path) : \n",
    "      with open(path , encoding=\"utf8\") as f:\n",
    "            lines   = f.readlines()\n",
    "      \n",
    "      YOU_msg = [line for line in lines if YOU in line]\n",
    "      ME_msg  = [line for line in lines if ME  in line]\n",
    "\n",
    "      YOU_msg_emojed = [line for line in YOU_msg  if  is_emojed(line)]\n",
    "      ME_msg_emojed  = [line for line in ME_msg  if  is_emojed(line) ]\n",
    "\n",
    "      text = \"{} has send {} message, {} of his messages include emojis \\nwhile\\n{} has send {} message, {} of his messages include emojis\".format(YOU,len(YOU_msg),percent(len(YOU_msg_emojed)/len(YOU_msg)),ME,len(ME_msg),percent(len(ME_msg_emojed)/len(ME_msg)))\n",
    "\n",
    "      return text\n",
    "\n",
    "print(statistique_emoji(path))"
   ]
  },
  {
   "cell_type": "markdown",
   "metadata": {},
   "source": [
    "TOP EMOJI QUE VOUS UTILISER :"
   ]
  },
  {
   "cell_type": "markdown",
   "metadata": {},
   "source": [
    "RUN THIS CODE TO HAVE RESULT "
   ]
  },
  {
   "cell_type": "code",
   "execution_count": null,
   "metadata": {},
   "outputs": [
    {
     "name": "stdout",
     "output_type": "stream",
     "text": [
      "YYY's 0th TOP emoji is : 🙂 with 4 occurences\n",
      "YYY's 1th TOP emoji is : 🙄 with 1 occurences\n",
      "\n",
      "XXX's 0th TOP emoji is : 🙂 with 1 occurences\n",
      "XXX's 1th TOP emoji is : 😤 with 1 occurences\n",
      "\n"
     ]
    }
   ],
   "source": [
    "def top_emoji(path,n) : \n",
    "      with open(path , encoding=\"utf8\") as f:\n",
    "            lines   = f.readlines()\n",
    "      \n",
    "      YOU_msg = \"\".join([line for line in lines if YOU in line])\n",
    "      ME_msg  = \"\".join([line for line in lines if ME  in line])\n",
    "\n",
    "      YOU_emoji = [car for car in YOU_msg if is_emoji(car)]\n",
    "      cleaned_YOU_emoji = delete_doubles(YOU_emoji)\n",
    "      hist_YOU=[]\n",
    "      for emoji in cleaned_YOU_emoji : \n",
    "            hist_YOU.append((emoji , YOU_emoji.count(emoji)))\n",
    "      YOUR_TOP = top(hist_YOU,n)\n",
    "      top_you=\"\"\n",
    "      for i in range(len(YOUR_TOP)) :\n",
    "            top_you = top_you + \"{}'s {}th TOP emoji is : {} with {} occurences\\n\".format(YOU,i,YOUR_TOP[i][0],YOUR_TOP[i][1])\n",
    "\n",
    "\n",
    "      ME_emoji  = [car for car in ME_msg  if is_emoji(car)]\n",
    "      cleaned_ME_emoji = delete_doubles(ME_emoji)\n",
    "      hist_ME=[]\n",
    "      for emoji in cleaned_ME_emoji : \n",
    "            hist_ME.append((emoji , ME_emoji.count(emoji)))\n",
    "      MINE_TOP = top(hist_ME,n)\n",
    "      top_me=\"\"\n",
    "      for i in range(len(MINE_TOP)) :\n",
    "            top_me = top_me + \"{}'s {}th TOP emoji is : {} with {} occurences\\n\".format(ME,i,MINE_TOP[i][0],MINE_TOP[i][1])\n",
    "\n",
    "      return top_you +\"\\n\"+top_me \n",
    "\n",
    "print(top_emoji(path,10))"
   ]
  }
 ],
 "metadata": {
  "kernelspec": {
   "display_name": "Python 3.8.8 64-bit",
   "language": "python",
   "name": "python3"
  },
  "language_info": {
   "codemirror_mode": {
    "name": "ipython",
    "version": 3
   },
   "file_extension": ".py",
   "mimetype": "text/x-python",
   "name": "python",
   "nbconvert_exporter": "python",
   "pygments_lexer": "ipython3",
   "version": "3.8.8"
  },
  "orig_nbformat": 4,
  "vscode": {
   "interpreter": {
    "hash": "494deeb4eea7fb63b62f74ba02ace728543e0003fbb675bfec79f4f4980c3f04"
   }
  }
 },
 "nbformat": 4,
 "nbformat_minor": 2
}
